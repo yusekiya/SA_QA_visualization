{
 "cells": [
  {
   "cell_type": "markdown",
   "metadata": {},
   "source": [
    "# Visualize SA"
   ]
  },
  {
   "cell_type": "code",
   "execution_count": 1,
   "metadata": {
    "collapsed": true
   },
   "outputs": [],
   "source": [
    "import os\n",
    "from math import exp, cos, pi\n",
    "import random\n",
    "import numpy as np\n",
    "import matplotlib\n",
    "import matplotlib.pyplot as plt\n",
    "from matplotlib import animation, rc\n",
    "\n",
    "%matplotlib inline"
   ]
  },
  {
   "cell_type": "code",
   "execution_count": 2,
   "metadata": {
    "collapsed": true
   },
   "outputs": [],
   "source": [
    "# Define SA updater\n",
    "del_x = 0.01\n",
    "def updater(func, x_current, beta):\n",
    "    if x_current > 0.95:\n",
    "        x_cand = x_current - del_x\n",
    "    elif x_current < -0.95:\n",
    "        x_cand = x_current + del_x\n",
    "    elif random.random() < 0.5:\n",
    "        x_cand = x_current + del_x\n",
    "    else:\n",
    "        x_cand = x_current - del_x\n",
    "    diff = func(x_cand) - func(x_current)\n",
    "    if diff < 0:\n",
    "        x_next = x_cand\n",
    "    elif random.random() < exp(-beta * diff):\n",
    "        x_next = x_cand\n",
    "    else:\n",
    "        x_next = x_current\n",
    "    return x_next"
   ]
  },
  {
   "cell_type": "markdown",
   "metadata": {},
   "source": [
    "## Function 1"
   ]
  },
  {
   "cell_type": "code",
   "execution_count": 3,
   "metadata": {
    "collapsed": false
   },
   "outputs": [],
   "source": [
    "# Define objective function\n",
    "def f(x):\n",
    "    square = x * x\n",
    "    return square * (square - 0.98) - 0.08 * x + 0.1 * cos(10.0 * pi * x)"
   ]
  },
  {
   "cell_type": "code",
   "execution_count": 4,
   "metadata": {
    "collapsed": false
   },
   "outputs": [
    {
     "data": {
      "image/png": "[encoded data removed]",
      "text/plain": [
       "<matplotlib.figure.Figure at 0x7f9bc4d95208>"
      ]
     },
     "metadata": {},
     "output_type": "display_data"
    }
   ],
   "source": [
    "xp = np.linspace(-1.0, 1.0, num=150)\n",
    "yp = [f(x) for x in xp]\n",
    "plt.plot(xp, yp);"
   ]
  },
  {
   "cell_type": "markdown",
   "metadata": {},
   "source": [
    "Generate data"
   ]
  },
  {
   "cell_type": "code",
   "execution_count": 5,
   "metadata": {
    "collapsed": false
   },
   "outputs": [
    {
     "name": "stdout",
     "output_type": "stream",
     "text": [
      "beta: 0.0212 x:  0.2200\n",
      "beta: 0.0230 x: -0.1900\n",
      "beta: 0.0249 x:  0.0700\n",
      "beta: 0.0269 x:  0.2100\n",
      "beta: 0.0291 x: -0.0100\n",
      "beta: 0.0315 x:  0.4200\n",
      "beta: 0.0341 x:  0.4200\n",
      "beta: 0.0370 x:  0.7000\n",
      "beta: 0.0400 x:  0.4900\n",
      "beta: 0.0433 x:  0.5800\n",
      "beta: 0.0469 x: -0.1500\n",
      "beta: 0.0507 x:  0.1200\n",
      "beta: 0.0549 x: -0.1500\n",
      "beta: 0.0594 x: -0.6100\n",
      "beta: 0.0643 x: -0.7500\n",
      "beta: 0.0696 x: -0.8400\n",
      "beta: 0.0754 x: -0.4200\n",
      "beta: 0.0816 x:  0.3600\n",
      "beta: 0.0883 x:  0.7400\n",
      "beta: 0.0956 x:  0.8800\n",
      "beta: 0.1035 x:  0.0300\n",
      "beta: 0.1120 x: -0.2200\n",
      "beta: 0.1212 x: -0.6300\n",
      "beta: 0.1312 x: -0.9500\n",
      "beta: 0.1421 x: -0.8300\n",
      "beta: 0.1538 x: -0.4000\n",
      "beta: 0.1664 x: -0.5200\n",
      "beta: 0.1802 x: -0.0900\n",
      "beta: 0.1950 x:  0.3000\n",
      "beta: 0.2111 x:  0.8000\n",
      "beta: 0.2285 x:  0.8900\n",
      "beta: 0.2473 x:  0.4900\n",
      "beta: 0.2677 x:  0.2900\n",
      "beta: 0.2898 x:  0.7800\n",
      "beta: 0.3137 x:  0.8800\n",
      "beta: 0.3395 x:  0.5200\n",
      "beta: 0.3675 x:  0.1300\n",
      "beta: 0.3978 x:  0.8400\n",
      "beta: 0.4306 x:  0.8400\n",
      "beta: 0.4661 x:  0.4700\n",
      "beta: 0.5045 x:  0.2300\n",
      "beta: 0.5461 x:  0.8700\n",
      "beta: 0.5911 x:  0.8200\n",
      "beta: 0.6398 x:  0.9100\n",
      "beta: 0.6926 x:  0.4500\n",
      "beta: 0.7497 x:  0.6500\n",
      "beta: 0.8115 x:  0.8000\n",
      "beta: 0.8783 x:  0.8900\n",
      "beta: 0.9507 x:  0.9500\n",
      "beta: 1.0291 x:  0.7600\n",
      "beta: 1.1139 x:  0.7000\n",
      "beta: 1.2058 x:  0.8900\n",
      "beta: 1.3052 x:  0.2700\n",
      "beta: 1.4128 x:  0.3500\n",
      "beta: 1.5292 x: -0.6500\n",
      "beta: 1.6553 x: -0.8100\n",
      "beta: 1.7917 x: -0.1200\n",
      "beta: 1.9394 x: -0.3900\n",
      "beta: 2.0993 x: -0.2500\n",
      "beta: 2.2723 x: -0.0400\n",
      "beta: 2.4596 x: -0.2600\n",
      "beta: 2.6624 x: -0.2300\n",
      "beta: 2.8819 x:  0.5300\n",
      "beta: 3.1194 x:  0.7200\n",
      "beta: 3.3766 x:  0.7700\n",
      "beta: 3.6549 x:  0.8500\n",
      "beta: 3.9562 x:  0.3000\n",
      "beta: 4.2823 x:  0.3500\n",
      "beta: 4.6353 x:  0.5200\n",
      "beta: 5.0174 x:  0.4700\n",
      "beta: 5.4310 x:  0.6500\n",
      "beta: 5.8787 x:  0.9100\n",
      "beta: 6.3633 x:  0.8100\n",
      "beta: 6.8878 x:  0.9200\n",
      "beta: 7.4556 x:  0.7500\n",
      "beta: 8.0702 x:  0.4800\n",
      "beta: 8.7354 x:  0.6800\n",
      "beta: 9.4555 x:  0.5800\n",
      "beta: 10.2349 x:  0.8700\n",
      "beta: 11.0786 x:  0.5400\n",
      "beta: 11.9918 x:  0.6600\n",
      "beta: 12.9803 x:  0.5500\n",
      "beta: 14.0503 x:  0.7300\n",
      "beta: 15.2085 x:  0.7200\n",
      "beta: 16.4622 x:  0.6800\n",
      "beta: 17.8192 x:  0.6300\n",
      "beta: 19.2881 x:  0.6900\n",
      "beta: 20.8781 x:  0.7200\n",
      "beta: 22.5991 x:  0.8900\n",
      "beta: 24.4620 x:  0.7700\n",
      "beta: 26.4784 x:  0.7200\n",
      "beta: 28.6611 x:  0.5000\n",
      "beta: 31.0237 x:  0.5200\n",
      "beta: 33.5811 x:  0.5000\n",
      "beta: 36.3492 x:  0.5100\n",
      "beta: 39.3456 x:  0.4900\n",
      "beta: 42.5889 x:  0.5200\n",
      "beta: 46.0996 x:  0.4900\n",
      "beta: 49.8997 x:  0.5300\n",
      "beta: 54.0130 x:  0.5000\n"
     ]
    }
   ],
   "source": [
    "beta0 = 0.02\n",
    "r_beta = 1.02\n",
    "sweep = 500\n",
    "N_iter =400\n",
    "skip = 2000\n",
    "x0 = 0.0\n",
    "\n",
    "data_dir = '../data/function1'\n",
    "if not os.path.isdir(data_dir):\n",
    "    os.makedirs(data_dir)\n",
    "    \n",
    "fname = os.path.join(data_dir, 'SA_b0{0:.4f}_br{1:.4f}_sweep{2:d}_iter{3:d}.dat'.format(beta0, r_beta, sweep, N_iter))\n",
    "fmt = ['%.4f', '%.4f']\n",
    "\n",
    "counter = 0\n",
    "beta = beta0\n",
    "x = x0\n",
    "with open(fname, 'bw') as fout:\n",
    "    np.savetxt(fout, [[beta, x]], fmt=fmt)\n",
    "    for i in range(N_iter):\n",
    "        for j in range(sweep):\n",
    "            counter += 1\n",
    "            x = updater(f, x, beta)\n",
    "            if counter%skip == 0:\n",
    "                np.savetxt(fout, [[beta, x]], fmt=fmt)\n",
    "                counter = 0\n",
    "                print('beta: {0:.4f} x: {1: .4f}'.format(beta, x), flush=True)\n",
    "        beta *= r_beta\n",
    "        # Save the last state\n",
    "        if i == N_iter-1 and counter != 0:\n",
    "            np.savetxt(fout, [[beta, x]], fmt=fmt)\n",
    "            print('beta: {0:.4f} x: {1: .4f}'.format(beta, x), flush=True)"
   ]
  },
  {
   "cell_type": "markdown",
   "metadata": {},
   "source": [
    "Plot data"
   ]
  },
  {
   "cell_type": "code",
   "execution_count": 6,
   "metadata": {
    "collapsed": false
   },
   "outputs": [
    {
     "data": {
      "image/png": "[encoded data removed]",
      "text/plain": [
       "<matplotlib.figure.Figure at 0x7f9bc48267f0>"
      ]
     },
     "metadata": {},
     "output_type": "display_data"
    }
   ],
   "source": [
    "beta0 = 0.02\n",
    "r_beta = 1.02\n",
    "sweep = 500\n",
    "N_iter =400\n",
    "\n",
    "data_dir = '../data/function1' \n",
    "fname = os.path.join(data_dir, 'SA_b0{0:.4f}_br{1:.4f}_sweep{2:d}_iter{3:d}.dat'.format(beta0, r_beta, sweep, N_iter))\n",
    "\n",
    "data = np.loadtxt(fname)\n",
    "size = data.shape[0]\n",
    "\n",
    "fig, ax = plt.subplots(figsize=(6,4))\n",
    "fig.subplots_adjust(top=0.99, left=0.01, right=0.99, bottom=0.02)\n",
    "ax.set_ylim(-0.4, 0.2)\n",
    "ax.set_xlim(-1, 1)\n",
    "ax.axis('off')\n",
    "\n",
    "xp = np.linspace(-1.0, 1.0, num=150)\n",
    "yp = [f(x) for x in xp]\n",
    "line, = ax.plot(xp, yp)\n",
    "point, = ax.plot([0.0], [f(0.0)+0.005], 'o', ms=8)\n",
    "beta_text = ax.text(0.8, 0.9, '', transform=ax.transAxes, fontsize=15)\n",
    "\n",
    "def update_fig(i):\n",
    "    beta = data[i,0]\n",
    "    x = data[i,1]\n",
    "    point.set_data(x, f(x)+0.005)\n",
    "    beta_text.set_text(r'$\\beta = {:.2f}$'.format(beta))\n",
    "    return point,\n",
    "\n",
    "ani = animation.FuncAnimation(fig, update_fig, size, interval=100, blit=True)\n",
    "ani.save('SA.mp4', dpi=100)"
   ]
  },
  {
   "cell_type": "markdown",
   "metadata": {},
   "source": [
    "## Function 2"
   ]
  },
  {
   "cell_type": "code",
   "execution_count": null,
   "metadata": {
    "collapsed": true
   },
   "outputs": [],
   "source": [
    "# Define another objective function\n",
    "def g(x):\n",
    "    square = x * x\n",
    "    return 1.5 * square - 0.3 * cos(10.0 * pi * x)"
   ]
  },
  {
   "cell_type": "code",
   "execution_count": null,
   "metadata": {
    "collapsed": false
   },
   "outputs": [],
   "source": [
    "xp = np.linspace(-1.0, 1.0, num=150)\n",
    "yp = [g(x) for x in xp]\n",
    "plt.plot(xp, yp);"
   ]
  },
  {
   "cell_type": "code",
   "execution_count": null,
   "metadata": {
    "collapsed": false
   },
   "outputs": [],
   "source": [
    "beta0 = 0.02\n",
    "r_beta = 1.02\n",
    "sweep = 500\n",
    "N_iter = 400\n",
    "skip = 50\n",
    "x0 = 0.0\n",
    "\n",
    "beta = beta0\n",
    "\n",
    "..."
   ]
  },
  {
   "cell_type": "code",
   "execution_count": null,
   "metadata": {
    "collapsed": true
   },
   "outputs": [],
   "source": []
  }
 ],
 "metadata": {
  "kernelspec": {
   "display_name": "Python 3",
   "language": "python",
   "name": "python3"
  },
  "language_info": {
   "codemirror_mode": {
    "name": "ipython",
    "version": 3
   },
   "file_extension": ".py",
   "mimetype": "text/x-python",
   "name": "python",
   "nbconvert_exporter": "python",
   "pygments_lexer": "ipython3",
   "version": "3.6.0"
  }
 },
 "nbformat": 4,
 "nbformat_minor": 2
}
