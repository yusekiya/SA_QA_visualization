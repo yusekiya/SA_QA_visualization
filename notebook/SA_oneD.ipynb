{
 "cells": [
  {
   "cell_type": "markdown",
   "metadata": {},
   "source": [
    "# Visualize SA"
   ]
  },
  {
   "cell_type": "code",
   "execution_count": null,
   "metadata": {},
   "outputs": [],
   "source": [
    "import os\n",
    "from math import exp, cos, pi\n",
    "import random\n",
    "import numpy as np\n",
    "import matplotlib\n",
    "import matplotlib.pyplot as plt\n",
    "from matplotlib import animation, rc\n",
    "\n",
    "%matplotlib inline"
   ]
  },
  {
   "cell_type": "code",
   "execution_count": null,
   "metadata": {},
   "outputs": [],
   "source": [
    "# Define SA updater\n",
    "del_x = 0.01\n",
    "def updater(func, x_current, beta):\n",
    "    if x_current > 0.95:\n",
    "        x_cand = x_current - del_x\n",
    "    elif x_current < -0.95:\n",
    "        x_cand = x_current + del_x\n",
    "    elif random.random() < 0.5:\n",
    "        x_cand = x_current + del_x\n",
    "    else:\n",
    "        x_cand = x_current - del_x\n",
    "    diff = func(x_cand) - func(x_current)\n",
    "    if diff < 0:\n",
    "        x_next = x_cand\n",
    "    elif random.random() < exp(-beta * diff):\n",
    "        x_next = x_cand\n",
    "    else:\n",
    "        x_next = x_current\n",
    "    return x_next"
   ]
  },
  {
   "cell_type": "markdown",
   "metadata": {},
   "source": [
    "## Function 1"
   ]
  },
  {
   "cell_type": "code",
   "execution_count": null,
   "metadata": {},
   "outputs": [],
   "source": [
    "# Define objective function\n",
    "def f(x):\n",
    "    square = x * x\n",
    "    return square * (square - 0.98) - 0.08 * x + 0.1 * cos(10.0 * pi * x)"
   ]
  },
  {
   "cell_type": "code",
   "execution_count": null,
   "metadata": {},
   "outputs": [],
   "source": [
    "xp = np.linspace(-1.0, 1.0, num=150)\n",
    "yp = [f(x) for x in xp]\n",
    "plt.plot(xp, yp);"
   ]
  },
  {
   "cell_type": "markdown",
   "metadata": {},
   "source": [
    "Generate data"
   ]
  },
  {
   "cell_type": "code",
   "execution_count": null,
   "metadata": {},
   "outputs": [],
   "source": [
    "beta0 = 0.02\n",
    "r_beta = 1.02\n",
    "sweep = 500\n",
    "N_iter =400\n",
    "skip = 2000\n",
    "x0 = 0.0\n",
    "\n",
    "data_dir = '../data/function1'\n",
    "if not os.path.isdir(data_dir):\n",
    "    os.makedirs(data_dir)\n",
    "    \n",
    "fname = os.path.join(data_dir, 'SA_b0{0:.4f}_br{1:.4f}_sweep{2:d}_iter{3:d}.dat'.format(beta0, r_beta, sweep, N_iter))\n",
    "fmt = ['%.4f', '%.4f']\n",
    "\n",
    "counter = 0\n",
    "beta = beta0\n",
    "x = x0\n",
    "with open(fname, 'bw') as fout:\n",
    "    np.savetxt(fout, [[beta, x]], fmt=fmt)\n",
    "    for i in range(N_iter):\n",
    "        for j in range(sweep):\n",
    "            counter += 1\n",
    "            x = updater(f, x, beta)\n",
    "            if counter%skip == 0:\n",
    "                np.savetxt(fout, [[beta, x]], fmt=fmt)\n",
    "                counter = 0\n",
    "                print('beta: {0:.4f} x: {1: .4f}'.format(beta, x), flush=True)\n",
    "        beta *= r_beta\n",
    "        # Save the last state\n",
    "        if i == N_iter-1 and counter != 0:\n",
    "            np.savetxt(fout, [[beta, x]], fmt=fmt)\n",
    "            print('beta: {0:.4f} x: {1: .4f}'.format(beta, x), flush=True)"
   ]
  },
  {
   "cell_type": "markdown",
   "metadata": {},
   "source": [
    "Plot data"
   ]
  },
  {
   "cell_type": "code",
   "execution_count": null,
   "metadata": {},
   "outputs": [],
   "source": [
    "beta0 = 0.02\n",
    "r_beta = 1.02\n",
    "sweep = 500\n",
    "N_iter =400\n",
    "\n",
    "data_dir = '../data/function1' \n",
    "fname = os.path.join(data_dir, 'SA_b0{0:.4f}_br{1:.4f}_sweep{2:d}_iter{3:d}.dat'.format(beta0, r_beta, sweep, N_iter))\n",
    "\n",
    "data = np.loadtxt(fname)\n",
    "size = data.shape[0]\n",
    "\n",
    "fig, ax = plt.subplots(figsize=(6,4))\n",
    "fig.subplots_adjust(top=0.99, left=0.01, right=0.99, bottom=0.02)\n",
    "ax.set_ylim(-0.4, 0.2)\n",
    "ax.set_xlim(-1, 1)\n",
    "ax.axis('off')\n",
    "\n",
    "xp = np.linspace(-1.0, 1.0, num=150)\n",
    "yp = [f(x) for x in xp]\n",
    "line, = ax.plot(xp, yp)\n",
    "point, = ax.plot([0.0], [f(0.0)+0.005], 'o', ms=8)\n",
    "beta_text = ax.text(0.8, 0.9, '', transform=ax.transAxes, fontsize=15)\n",
    "\n",
    "def update_fig(i):\n",
    "    beta = data[i,0]\n",
    "    x = data[i,1]\n",
    "    point.set_data(x, f(x)+0.005)\n",
    "    beta_text.set_text(r'$\\beta = {:.2f}$'.format(beta))\n",
    "    return point,\n",
    "\n",
    "ani = animation.FuncAnimation(fig, update_fig, size, interval=100, blit=True)\n",
    "ani.save('SA.mp4', dpi=100)"
   ]
  },
  {
   "cell_type": "markdown",
   "metadata": {},
   "source": [
    "## Function 2"
   ]
  },
  {
   "cell_type": "code",
   "execution_count": null,
   "metadata": {},
   "outputs": [],
   "source": [
    "# Define another objective function\n",
    "def g(x):\n",
    "    square = x * x\n",
    "    return 1.5 * square - 0.3 * cos(10.0 * pi * x)"
   ]
  },
  {
   "cell_type": "code",
   "execution_count": null,
   "metadata": {},
   "outputs": [],
   "source": [
    "xp = np.linspace(-1.0, 1.0, num=150)\n",
    "yp = [g(x) for x in xp]\n",
    "plt.plot(xp, yp);"
   ]
  },
  {
   "cell_type": "code",
   "execution_count": null,
   "metadata": {},
   "outputs": [],
   "source": [
    "beta0 = 0.02\n",
    "r_beta = 1.02\n",
    "sweep = 500\n",
    "N_iter = 400\n",
    "skip = 50\n",
    "x0 = 0.0\n",
    "\n",
    "beta = beta0\n",
    "\n",
    "..."
   ]
  },
  {
   "cell_type": "code",
   "execution_count": null,
   "metadata": {},
   "outputs": [],
   "source": []
  }
 ],
 "metadata": {
  "kernelspec": {
   "display_name": "Python 3",
   "language": "python",
   "name": "python3"
  },
  "language_info": {
   "codemirror_mode": {
    "name": "ipython",
    "version": 3
   },
   "file_extension": ".py",
   "mimetype": "text/x-python",
   "name": "python",
   "nbconvert_exporter": "python",
   "pygments_lexer": "ipython3",
   "version": "3.6.0"
  }
 },
 "nbformat": 4,
 "nbformat_minor": 2
}
