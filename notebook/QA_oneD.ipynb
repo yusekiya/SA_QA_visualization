{
 "cells": [
  {
   "cell_type": "markdown",
   "metadata": {},
   "source": [
    "# Visualize QA"
   ]
  },
  {
   "cell_type": "code",
   "execution_count": 1,
   "metadata": {
    "collapsed": true
   },
   "outputs": [],
   "source": [
    "import os\n",
    "from math import exp, cos, pi, sqrt, isclose\n",
    "from cmath import exp as cplx_exp\n",
    "import random\n",
    "import numpy as np\n",
    "from scipy.ndimage.filters import gaussian_filter\n",
    "import matplotlib\n",
    "import matplotlib.pyplot as plt\n",
    "from matplotlib import animation, rc\n",
    "\n",
    "%matplotlib inline"
   ]
  },
  {
   "cell_type": "markdown",
   "metadata": {},
   "source": [
    "## Define QA updater"
   ]
  },
  {
   "cell_type": "code",
   "execution_count": 2,
   "metadata": {
    "collapsed": false
   },
   "outputs": [],
   "source": [
    "def generate_diag_time_evolving_op_with_H0(cost_function_values, delta_t, s, M):\n",
    "    \"\"\" Generate diagonal elements oftime evolving operator with H0 term\n",
    "    \n",
    "    Parameters\n",
    "    ----------\n",
    "    cost_function_values : 1-d array\n",
    "        Values of cost function for each option.\n",
    "    delta_t : float\n",
    "        Time step of QA.\n",
    "    s : float\n",
    "        Control parameter of QA at current time. The total Hamiltonian is H(t) = s(t) H0 + (1-s(t)) V.\n",
    "    M : int\n",
    "        The number of Trotter slices.\n",
    "        \n",
    "    Returns\n",
    "    -------\n",
    "    Diagonal elements of infinitesimal time evoluting operator with regards to H0.\n",
    "    \"\"\"\n",
    "    return np.exp(-1.0j*(delta_t*s/M)*cost_function_values)\n",
    "\n",
    "def generate_time_evolving_op_with_V(delta_t, s, M, size):\n",
    "    \"\"\" Generate time evolving operator with V term\n",
    "    \n",
    "    Parameters\n",
    "    ----------\n",
    "    delta_t : float\n",
    "        Time step of QA.\n",
    "    s : float\n",
    "        Control parameter of QA at current time. The total Hamiltonian is H(t) = s(t) H0 + (1-s(t)) V.\n",
    "    M : int\n",
    "        The number of Trotter slices.\n",
    "    size: int\n",
    "        The size of matrix (time evolving op is a size x size matrix).\n",
    "    \n",
    "    Returns\n",
    "    -------\n",
    "    Infinitesimal time evoluting operator with regards to V.\n",
    "    \"\"\"\n",
    "    return cplx_exp(-1.0j*delta_t*(1.0-s)/M) * (np.identity(size)\n",
    "                                                + ((cplx_exp(1.0j*delta_t*size*(1-s)/M)-1.0)/size) * np.ones((size,size)))\n",
    "\n",
    "def proceed_infinitesimal_time(state, cost_function_values, delta_t, s, M):\n",
    "    \"\"\" Proceed quantum state with infinitesimal time evolving operator.\n",
    "\n",
    "    Parameters\n",
    "    ----------\n",
    "    state: 1-d array\n",
    "        Quantum state vector.\n",
    "    cost_function_values : 1-d array\n",
    "        Values of cost function for each option.\n",
    "        The shape must be the same as that of `state`.\n",
    "    delta_t : float\n",
    "        Time step of QA.\n",
    "    s : float\n",
    "        Control parameter of QA at current time. The total Hamiltonian is H(t) = s(t) H0 + (1-s(t)) V.\n",
    "    M : int\n",
    "        The number of Trotter slices.\n",
    "        \n",
    "    Returns\n",
    "    -------\n",
    "    Updated quantum state\n",
    "    \"\"\"\n",
    "    size = cost_function_values.shape[0]\n",
    "    diag_U_H0 = generate_diag_time_evolving_op_with_H0(cost_function_values, delta_t, s, M)\n",
    "    U_V = generate_time_evolving_op_with_V(delta_t, s, M, size)\n",
    "    ret_state = state\n",
    "    for _ in range(M):\n",
    "        ret_state = diag_U_H0 * (U_V @ ret_state)\n",
    "    return ret_state"
   ]
  },
  {
   "cell_type": "markdown",
   "metadata": {},
   "source": [
    "## Unit test for the time evolving function\n",
    "\n",
    "Simulate the Larmor precession\n",
    "\n",
    "### External field along with z direction"
   ]
  },
  {
   "cell_type": "code",
   "execution_count": 3,
   "metadata": {
    "collapsed": false
   },
   "outputs": [],
   "source": [
    "# Initial state pointing at +x direction\n",
    "state = np.array([1.0+0.0j, 1.0+0.0j])/sqrt(2.0)\n",
    "cost_function_values = np.array([1.0, -1.0])\n",
    "delta_t = 0.01\n",
    "s = 1.0\n",
    "M = 100\n",
    "\n",
    "data_dir = '../data/larmor'\n",
    "if not os.path.isdir(data_dir):\n",
    "    os.makedirs(data_dir)\n",
    "    \n",
    "fname = os.path.join(data_dir, 'data_along_z.dat')\n",
    "\n",
    "data = []\n",
    "sigmax = np.array([[0.0, 1.0], [1.0, 0.0]])\n",
    "for t in np.arange(0.0, 2.0*pi, delta_t)[1:]:\n",
    "    state = proceed_infinitesimal_time(state, cost_function_values, delta_t, s, M)\n",
    "    data.append([t, (np.conj(state)@sigmax@state).real])\n",
    "\n",
    "np.savetxt(fname, data)"
   ]
  },
  {
   "cell_type": "code",
   "execution_count": 4,
   "metadata": {
    "collapsed": false
   },
   "outputs": [
    {
     "data": {
      "image/png": "[encoded data removed]",
      "text/plain": [
       "<matplotlib.figure.Figure at 0x7f4ba48314a8>"
      ]
     },
     "metadata": {},
     "output_type": "display_data"
    }
   ],
   "source": [
    "# Plot result\n",
    "data = np.loadtxt(fname)\n",
    "X = data[:, 0]\n",
    "Y = data[:, 1]\n",
    "plt.xlabel('Time')\n",
    "plt.ylabel(r'$\\langle \\hat{\\sigma}^{x} \\rangle$')\n",
    "plt.plot(X,Y);"
   ]
  },
  {
   "cell_type": "markdown",
   "metadata": {},
   "source": [
    "### External field along with x direction"
   ]
  },
  {
   "cell_type": "code",
   "execution_count": 5,
   "metadata": {
    "collapsed": false
   },
   "outputs": [],
   "source": [
    "# Initial state pointing at -z direction\n",
    "state = np.array([0.0+0.0j, 1.0+0.0j])\n",
    "cost_function_values = np.array([1.0, -1.0])\n",
    "delta_t = 0.01\n",
    "s = 0.0\n",
    "M = 100\n",
    "\n",
    "data_dir = '../data/larmor'\n",
    "if not os.path.isdir(data_dir):\n",
    "    os.makedirs(data_dir)\n",
    "    \n",
    "fname = os.path.join(data_dir, 'data_along_x.dat')\n",
    "\n",
    "data = []\n",
    "sigmaz = np.array([[1.0, 0.0], [0.0, -1.0]])\n",
    "for t in np.arange(0.0, 2.0*pi, delta_t)[1:]:\n",
    "    state = proceed_infinitesimal_time(state, cost_function_values, delta_t, s, M)\n",
    "    data.append([t, (np.conj(state)@sigmaz@state).real])\n",
    "\n",
    "np.savetxt(fname, data)"
   ]
  },
  {
   "cell_type": "code",
   "execution_count": 6,
   "metadata": {
    "collapsed": false
   },
   "outputs": [
    {
     "data": {
      "image/png": "[encoded data removed]",
      "text/plain": [
       "<matplotlib.figure.Figure at 0x7f4b73ac15f8>"
      ]
     },
     "metadata": {},
     "output_type": "display_data"
    }
   ],
   "source": [
    "# Plot result\n",
    "data = np.loadtxt(fname)\n",
    "X = data[:, 0]\n",
    "Y = data[:, 1]\n",
    "plt.xlabel('Time')\n",
    "plt.ylabel(r'$\\langle \\hat{\\sigma}^{z} \\rangle$')\n",
    "plt.plot(X,Y);"
   ]
  },
  {
   "cell_type": "markdown",
   "metadata": {},
   "source": [
    "## Function 1"
   ]
  },
  {
   "cell_type": "code",
   "execution_count": 7,
   "metadata": {
    "collapsed": true
   },
   "outputs": [],
   "source": [
    "# Define objective function\n",
    "def f(x):\n",
    "    square = x * x\n",
    "    return square * (square - 0.98) - 0.08 * x + 0.1 * cos(10.0 * pi * x)"
   ]
  },
  {
   "cell_type": "code",
   "execution_count": 8,
   "metadata": {
    "collapsed": false
   },
   "outputs": [
    {
     "data": {
      "image/png": "[encoded data removed]",
      "text/plain": [
       "<matplotlib.figure.Figure at 0x7f4b7396d1d0>"
      ]
     },
     "metadata": {},
     "output_type": "display_data"
    }
   ],
   "source": [
    "xp = np.linspace(-1.0, 1.0, num=150)\n",
    "yp = [f(x) for x in xp]\n",
    "plt.plot(xp, yp);"
   ]
  },
  {
   "cell_type": "markdown",
   "metadata": {},
   "source": [
    "Define functions to save and load data with complex values"
   ]
  },
  {
   "cell_type": "code",
   "execution_count": 9,
   "metadata": {
    "collapsed": true
   },
   "outputs": [],
   "source": [
    "def save_data(fname, t, state):\n",
    "    size = state.shape[0]\n",
    "    fmt = ['%.4f'] + ['%.16e', '%.16e']*size\n",
    "    aranged_data = np.stack((state.real, state.imag), axis=1).ravel()\n",
    "    aranged_data = np.insert(aranged_data, 0, t)\n",
    "    np.savetxt(fname, aranged_data[None, :], fmt=fmt)\n",
    "\n",
    "def load_data(fname):\n",
    "    X = np.loadtxt(fname)\n",
    "    t = X[:, 0]\n",
    "    real_part = X[:, 1::2]\n",
    "    imag_part = X[:, 2::2]\n",
    "    state = real_part + 1.0j * imag_part\n",
    "    return t, state"
   ]
  },
  {
   "cell_type": "markdown",
   "metadata": {},
   "source": [
    "Generate data"
   ]
  },
  {
   "cell_type": "code",
   "execution_count": 10,
   "metadata": {
    "collapsed": false
   },
   "outputs": [
    {
     "name": "stdout",
     "output_type": "stream",
     "text": [
      "t=10.0000 finished\n",
      "t=20.0000 finished\n",
      "t=30.0000 finished\n",
      "t=40.0000 finished\n",
      "t=50.0000 finished\n",
      "t=60.0000 finished\n",
      "t=70.0000 finished\n",
      "t=80.0000 finished\n",
      "t=90.0000 finished\n",
      "t=100.0000 finished\n",
      "t=110.0000 finished\n",
      "t=120.0000 finished\n",
      "t=130.0000 finished\n",
      "t=140.0000 finished\n",
      "t=150.0000 finished\n",
      "t=160.0000 finished\n",
      "t=170.0000 finished\n",
      "t=180.0000 finished\n",
      "t=190.0000 finished\n",
      "t=200.0000 finished\n",
      "t=210.0000 finished\n",
      "t=220.0000 finished\n",
      "t=230.0000 finished\n",
      "t=240.0000 finished\n",
      "t=250.0000 finished\n",
      "t=260.0000 finished\n",
      "t=270.0000 finished\n",
      "t=280.0000 finished\n",
      "t=290.0000 finished\n",
      "t=300.0000 finished\n",
      "t=310.0000 finished\n",
      "t=320.0000 finished\n",
      "t=330.0000 finished\n",
      "t=340.0000 finished\n",
      "t=350.0000 finished\n",
      "t=360.0000 finished\n",
      "t=370.0000 finished\n",
      "t=380.0000 finished\n",
      "t=390.0000 finished\n",
      "t=400.0000 finished\n",
      "t=410.0000 finished\n",
      "t=420.0000 finished\n",
      "t=430.0000 finished\n",
      "t=440.0000 finished\n",
      "t=450.0000 finished\n",
      "t=460.0000 finished\n",
      "t=470.0000 finished\n",
      "t=480.0000 finished\n",
      "t=490.0000 finished\n",
      "t=500.0000 finished\n",
      "t=510.0000 finished\n",
      "t=520.0000 finished\n",
      "t=530.0000 finished\n",
      "t=540.0000 finished\n",
      "t=550.0000 finished\n",
      "t=560.0000 finished\n",
      "t=570.0000 finished\n",
      "t=580.0000 finished\n",
      "t=590.0000 finished\n",
      "t=600.0000 finished\n",
      "t=610.0000 finished\n",
      "t=620.0000 finished\n",
      "t=630.0000 finished\n",
      "t=640.0000 finished\n",
      "t=650.0000 finished\n",
      "t=660.0000 finished\n",
      "t=670.0000 finished\n",
      "t=680.0000 finished\n",
      "t=690.0000 finished\n",
      "t=700.0000 finished\n",
      "t=710.0000 finished\n",
      "t=720.0000 finished\n",
      "t=730.0000 finished\n",
      "t=740.0000 finished\n",
      "t=750.0000 finished\n",
      "t=760.0000 finished\n",
      "t=770.0000 finished\n",
      "t=780.0000 finished\n",
      "t=790.0000 finished\n",
      "t=800.0000 finished\n",
      "t=810.0000 finished\n",
      "t=820.0000 finished\n",
      "t=830.0000 finished\n",
      "t=840.0000 finished\n",
      "t=850.0000 finished\n",
      "t=860.0000 finished\n",
      "t=870.0000 finished\n",
      "t=880.0000 finished\n",
      "t=890.0000 finished\n",
      "t=900.0000 finished\n",
      "t=910.0000 finished\n",
      "t=920.0000 finished\n",
      "t=930.0000 finished\n",
      "t=940.0000 finished\n",
      "t=950.0000 finished\n",
      "t=960.0000 finished\n",
      "t=970.0000 finished\n",
      "t=980.0000 finished\n",
      "t=990.0000 finished\n",
      "t=1000.0000 finished\n"
     ]
    }
   ],
   "source": [
    "size = 150\n",
    "delta_t = 0.01\n",
    "interval = round(10/delta_t)\n",
    "tau = 1000\n",
    "M = 100\n",
    "\n",
    "data_dir = '../data/function1'\n",
    "if not os.path.isdir(data_dir):\n",
    "    os.makedirs(data_dir)\n",
    "    \n",
    "fname = os.path.join(data_dir, 'QA_tau{0:.4f}_deltaT{1:.4f}_M{2:d}.dat'.format(tau, delta_t, M))\n",
    "\n",
    "cost_function_values = np.array([f(x) for x in np.linspace(-1.0, 1.0, num=size)])\n",
    "diag_norm = np.linalg.norm(cost_function_values)\n",
    "normalized_H0_diag = (4 * size/diag_norm) * cost_function_values\n",
    "state = np.ones(size, dtype=np.complex128)/sqrt(size)\n",
    "\n",
    "def get_s(t):\n",
    "    return t/tau\n",
    "\n",
    "counter = 0\n",
    "t = 0.0\n",
    "with open(fname, 'bw') as fout:\n",
    "    save_data(fout, t, state)\n",
    "    while True:\n",
    "        t += delta_t\n",
    "        if t > tau:\n",
    "            # Save the last state\n",
    "            if counter != 0:\n",
    "                save_data(fout, t-delta_t, state)\n",
    "                print('t={:.4f} finished'.format(t-delta_t), flush=True)\n",
    "            break\n",
    "        counter += 1\n",
    "        s = get_s(t)\n",
    "        state = proceed_infinitesimal_time(state, normalized_H0_diag, delta_t, s, M)\n",
    "        if counter%interval == 0:\n",
    "            counter = 0\n",
    "            save_data(fout, t, state)\n",
    "            print('t={:.4f} finished'.format(t), flush=True)"
   ]
  },
  {
   "cell_type": "markdown",
   "metadata": {},
   "source": [
    "Process data"
   ]
  },
  {
   "cell_type": "code",
   "execution_count": 11,
   "metadata": {
    "collapsed": true
   },
   "outputs": [],
   "source": [
    "size = 150\n",
    "delta_t = 0.01\n",
    "tau = 1000\n",
    "M = 100\n",
    "data_dir = '../data/function1'\n",
    "fname = os.path.join(data_dir, 'QA_tau{0:.4f}_deltaT{1:.4f}_M{2:d}.dat'.format(tau, delta_t, M))\n",
    "t, state = load_data(fname)\n",
    "\n",
    "prob_amplitude = np.absolute(state)**2"
   ]
  },
  {
   "cell_type": "markdown",
   "metadata": {},
   "source": [
    "Plot data"
   ]
  },
  {
   "cell_type": "code",
   "execution_count": 12,
   "metadata": {
    "collapsed": false,
    "scrolled": false
   },
   "outputs": [
    {
     "data": {
      "image/png": "[encoded data removed]",
      "text/plain": [
       "<matplotlib.figure.Figure at 0x7f4b73873898>"
      ]
     },
     "metadata": {},
     "output_type": "display_data"
    }
   ],
   "source": [
    "X = np.linspace(-1.0, 1.0, num=size)\n",
    "xmin, xmax = X[0], X[-1]\n",
    "ysize = 100\n",
    "tsize = t.shape[0]\n",
    "\n",
    "fig, ax = plt.subplots(figsize=(6,4))\n",
    "fig.subplots_adjust(top=0.99, left=0.01, right=0.99, bottom=0.01)\n",
    "ax.set_ylim(-0.4, 0.2)\n",
    "ax.set_xlim(-1, 1)\n",
    "ax.axis('off')\n",
    "yp = np.array([f(x) for x in X])\n",
    "ymin, ymax = np.amin(yp), np.amax(yp)\n",
    "extent = xmin, xmax, ymin, ymax\n",
    "\n",
    "def generate_image_data(size, ysize, probability_amplitude, cost_function_values,\n",
    "                        ysize_margin, ymin, ymax):\n",
    "    img_data = np.zeros((ysize, size))\n",
    "    sigma_max, sigma_min = 1.5, 0.5\n",
    "    Energy = probability_amplitude @ cost_function_values\n",
    "    if Energy >= ymax:\n",
    "        col_index = -1\n",
    "        sigma = sigma_max\n",
    "    elif Energy <= ymin:\n",
    "        col_index = 0\n",
    "        sigma = sigma_min\n",
    "    else:\n",
    "        percent = (Energy - ymin) / (ymax - ymin)\n",
    "        col_index = int(round(percent*(ysize-2*ysize_margin) + ysize_margin))\n",
    "        sigma = sigma_min + (sigma_max-sigma_min) * percent\n",
    "    img_data[col_index, :] = probability_amplitude ** (2/3)\n",
    "    img_data = gaussian_filter(img_data, sigma=sigma)\n",
    "    return img_data\n",
    "\n",
    "img_data = generate_image_data(size, ysize, prob_amplitude[0], yp,\n",
    "                               ysize_margin=3, ymin=ymin, ymax=ymax-0.2)\n",
    "\n",
    "line, = ax.plot(X, yp)\n",
    "img = ax.imshow(img_data, cmap='gist_heat_r', vmin=0.0, vmax=0.35,\n",
    "                aspect='auto', extent=extent, origin='lower',\n",
    "                interpolation='gaussian', animated=True)\n",
    "\n",
    "def update_fig(i):\n",
    "    img_data = generate_image_data(size, ysize, prob_amplitude[i], yp,\n",
    "                               ysize_margin=3, ymin=ymin, ymax=ymax-0.2)\n",
    "    img.set_array(img_data)\n",
    "    return img,\n",
    "\n",
    "ani = animation.FuncAnimation(fig, update_fig, tsize, interval=100, blit=True)\n",
    "ani.save('QA.mp4', dpi=100)"
   ]
  },
  {
   "cell_type": "code",
   "execution_count": null,
   "metadata": {
    "collapsed": true
   },
   "outputs": [],
   "source": []
  }
 ],
 "metadata": {
  "kernelspec": {
   "display_name": "Python 3",
   "language": "python",
   "name": "python3"
  },
  "language_info": {
   "codemirror_mode": {
    "name": "ipython",
    "version": 3
   },
   "file_extension": ".py",
   "mimetype": "text/x-python",
   "name": "python",
   "nbconvert_exporter": "python",
   "pygments_lexer": "ipython3",
   "version": "3.6.0"
  }
 },
 "nbformat": 4,
 "nbformat_minor": 2
}
